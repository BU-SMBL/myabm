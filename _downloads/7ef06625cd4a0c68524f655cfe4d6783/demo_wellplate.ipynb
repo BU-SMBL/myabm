{
  "cells": [
    {
      "cell_type": "markdown",
      "metadata": {},
      "source": [
        "\n# *in vitro* cell culture\n\nCell culture are often performed by seeding cells in well plates, which come in \na few standard sizes (6, 12, 24, 38, 96, 384 wells/plate). Simulating cell \nbehavior in a culture plate well can be a convenient way to see if the \npopulation of cells follows experimental expectations.\n\nA function for generating standard well plate geometries is available in \n:func:`myabm.ortho.geometries.wellplate` and convenient setup function is \navailable to easily create a well plate simulation \n(:func:`myabm.ortho.setup.wellplate`).\n\nBy default, the well plate geometry is essentially just a platform that cells\nexist on, however a volume of space above the bottom of the well can be added\nwith the :code:`media_volume` optional input, which can either by set to\n:code:`True` for a standard recommended media volume, or can be given a float\nfor a custom media volume. This can be useful if performing a simulation that \nconsiders nutrient availability or other biochemical factors.\n"
      ]
    },
    {
      "cell_type": "code",
      "execution_count": null,
      "metadata": {
        "collapsed": false
      },
      "outputs": [],
      "source": [
        "from myabm.ortho import OrthoModel, actions, setup, geometries\nimport mymesh\nimport numpy as np\nimport matplotlib.pyplot as plt\nimport matplotlib"
      ]
    },
    {
      "cell_type": "code",
      "execution_count": null,
      "metadata": {
        "collapsed": false
      },
      "outputs": [],
      "source": [
        "h = 0.025 # Grid spacing (mm)\n# Setup a well of a 96 well plate\nmodel = setup.wellplate(96, h, media_volume=False) \n\nmodel.agent_actions = (actions.proliferate, actions.migrate, actions.apoptose)\n\nmodel.iterate(5, schedule=OrthoModel.substep_saver_schedule)\n\nmodel.animate('wellplate.gif', timestep=0.1, show_mesh_edges=False, agent_kwargs=dict(render_points_as_spheres=True, point_size=4))"
      ]
    },
    {
      "cell_type": "markdown",
      "metadata": {},
      "source": [
        "## Analysis\nThe model history can be examined to see the population dynamics over time\n\n"
      ]
    },
    {
      "cell_type": "code",
      "execution_count": null,
      "metadata": {
        "collapsed": false
      },
      "outputs": [],
      "source": [
        "t = model.history['Time']\nncells = np.array([len(model.history['Agent Nodes'][i]) for i in range(len(model.history['Agent Nodes']))])\n\nfig, ax = plt.subplots(figsize=(6,4))\nax.plot(t, ncells, color='black')\nax.set_xlabel('Time (days)')\nax.set_ylabel('Number of Cells')\nax.yaxis.set_major_formatter(matplotlib.ticker.ScalarFormatter(useMathText=True))\nax.ticklabel_format(style='sci', axis='y', scilimits=(4,4))\nax.spines[['right', 'top']].set_visible(False)\nplt.rcParams['font.family'] = 'arial'\nplt.show()"
      ]
    }
  ],
  "metadata": {
    "kernelspec": {
      "display_name": "Python 3",
      "language": "python",
      "name": "python3"
    },
    "language_info": {
      "codemirror_mode": {
        "name": "ipython",
        "version": 3
      },
      "file_extension": ".py",
      "mimetype": "text/x-python",
      "name": "python",
      "nbconvert_exporter": "python",
      "pygments_lexer": "ipython3",
      "version": "3.10.18"
    }
  },
  "nbformat": 4,
  "nbformat_minor": 0
}