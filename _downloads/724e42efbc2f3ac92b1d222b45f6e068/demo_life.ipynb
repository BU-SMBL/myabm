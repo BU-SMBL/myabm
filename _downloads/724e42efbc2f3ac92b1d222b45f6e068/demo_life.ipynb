{
  "cells": [
    {
      "cell_type": "markdown",
      "metadata": {},
      "source": [
        "\n# Conway's Game of Life\n\nJohn Conway's Game of Life (or just \"Life\") :cite:`Gardner1970` is a cellular automaton where agents are created\nor die based on interactions with nearby agents, according to four rules:\n\n    1. An agent with fewer than two neighbors dies (under-population)\n    2. An agent with 2-3 neighbors lives to the next generation\n    3. An agent with more than three neighbors dies (over-population)\n    4. An agent is created in an unoccupied grid point if there are exactly three adjacent neighbors (reproduction)\n\nFrom this simple set of rules, complex patterns and behaviors arise, including\nTuring-completeness.\n\n## Implementation of the Game of Life\nOne way to implement Life would to seed every point in the grid with agents\nand then change the state of each agent from \"alive\" to \"dead\" or vice-versa.\nAlternatively, a grid action can be defined that determines when new agents \nare created or existing agents die, as follows:\n"
      ]
    },
    {
      "cell_type": "code",
      "execution_count": null,
      "metadata": {
        "collapsed": false
      },
      "outputs": [],
      "source": [
        "import numpy as np\nimport numba\n\nfrom mymesh import *\nimport sys\nsys.path.append('../src')\nfrom myabm import Model\n\n@numba.njit\ndef life_action(agent, grid):\n\n    # Get the states of neighboring agents in the Moore neighborhood\n    neighbor_states = [grid.Agents[grid.NodeAgents[i]].state for i in grid.NodeMooreNeighbors[agent.node] if i in grid.NodeAgents]\n    # Count the number of 'live' agents in the neighborhood\n    nlive = np.sum(np.array([1 if state == 'live' else 0 for state in neighbor_states]))\n    if agent.state == 'live':\n        if nlive < 2:\n            # Die by underpopulation\n            grid.change_agent(agent, 'dead', True)\n        elif nlive > 3:\n            # Die by overpopulation\n            grid.change_agent(agent, 'dead', True)\n    elif agent.state == 'dead':\n        if nlive == 3:\n            # Live by reproduction\n            grid.change_agent(agent, 'live', True)"
      ]
    },
    {
      "cell_type": "markdown",
      "metadata": {},
      "source": [
        "## Random initialization of the Game of Life\n\n\n"
      ]
    },
    {
      "cell_type": "code",
      "execution_count": null,
      "metadata": {
        "collapsed": false
      },
      "outputs": [],
      "source": [
        "Grid = primitives.Grid2D([0,1,0,1],0.025)\n\nmodel = Model(Grid)\nmodel.agent_actions = (life_action,)\nmodel.seed(500, state='live')\nmodel.seed(Grid.NNode-500, state='dead')\nmodel.iterate(100)\n\ncolor = dict(live='black', dead=None)\nmodel.animate('game_of_life.gif', view='xy', show_mesh=False, state_color=color)"
      ]
    },
    {
      "cell_type": "markdown",
      "metadata": {},
      "source": [
        "## Gosper glider gun\nBill Gosper's glider gun was the first pattern in the Game of Life that was\nfound to grow infinitely, by generating an infinite sequence of \"gliders\".\n\n"
      ]
    },
    {
      "cell_type": "code",
      "execution_count": null,
      "metadata": {
        "collapsed": false
      },
      "outputs": [],
      "source": [
        "Grid = primitives.Grid2D([0,1,0,1],0.025)\ngosper_gun_nodes = np.array([ 154,  155,  195,  196,  563,  564,  565,  603,  \n                            607,  643,  649,  684,  690,  728,  767,  771,  809, \n                            810,  811,  851,  975,  976,  977, 1016, 1017, 1018, \n                            1056, 1060, 1137, 1138, 1142, 1143, 1550,  1551, \n                            1591, 1592])\n\n# Setup the model\nmodel = Model(Grid)\nmodel.agent_actions = (life_action,)\n\n# Seed the grid\nmodel.seed(len(gosper_gun_nodes), nodes=gosper_gun_nodes, state='live')\nmodel.seed(model.NNode-len(gosper_gun_nodes), nodes=np.setdiff1d(np.arange(model.NNode), gosper_gun_nodes), state='dead')\n\n# Run the simulation\nmodel.iterate(200)\n\ncolor = dict(live='black', dead=None)\nmodel.animate('gosper_gun.gif', view='xy', show_mesh=False, state_color=color)"
      ]
    }
  ],
  "metadata": {
    "kernelspec": {
      "display_name": "Python 3",
      "language": "python",
      "name": "python3"
    },
    "language_info": {
      "codemirror_mode": {
        "name": "ipython",
        "version": 3
      },
      "file_extension": ".py",
      "mimetype": "text/x-python",
      "name": "python",
      "nbconvert_exporter": "python",
      "pygments_lexer": "ipython3",
      "version": "3.10.18"
    }
  },
  "nbformat": 4,
  "nbformat_minor": 0
}