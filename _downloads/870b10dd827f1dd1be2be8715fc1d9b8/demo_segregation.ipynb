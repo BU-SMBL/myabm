{
  "cells": [
    {
      "cell_type": "markdown",
      "metadata": {},
      "source": [
        "\n# Schelling's Model of Segregation\n\nImplementation of an agent-based model of segregation by Thomas Schelling \n:cite:`Schelling1971`.\nThis model was one of the earliest agent-based model, and was initially \nimplemented using coins and graph paper. \n\n\n## Implementation of the Schelling's Segregation Model\nAgent's in this model perform a single action where they migrate based on\nthe agent state of their neighbors. The decision of whether or not to move is \nbased on a single parameter, `'B'`. A second agent parameter `'happy'` is used \nto track whether the agent is happy with its current neighbors\n\nMigration is implemented as two actions: one agent action and one grid action.\nThe agent action :code:`decide` determines whether the agent is happy or wants to move.\nOnce all the agents have decided whether they want to move in a particular time\nstep, the grid action :code:`relocate` finds them all a new location to move to.\nNote that in the `default schedule <Schedule Templates>`, the agent actions\nare performed before the grid actions.\n"
      ]
    },
    {
      "cell_type": "code",
      "execution_count": null,
      "metadata": {
        "collapsed": false
      },
      "outputs": [],
      "source": [
        "import numpy as np\nimport numba\nimport mymesh\nimport sys\nsys.path.append('../src')\nfrom myabm import Model"
      ]
    },
    {
      "cell_type": "code",
      "execution_count": null,
      "metadata": {
        "collapsed": false
      },
      "outputs": [],
      "source": [
        "@numba.njit\ndef decide(agent, grid):\n    \"\"\"\n    Agent action to decide whether the agent is happy with its neighborhood\n\n    Parameters\n    ----------\n    agent : myabm.Agent\n        Agent to perform the action.\n    grid : myabm.AgentGrid\n        Grid environment that the agent is in.\n\n    Returns\n    -------\n    None.\n\n    \"\"\"\n\n    neighbor_agentstates = [grid.Agents[grid.NodeAgents[i]].state for i in grid.NodeMooreNeighbors[agent.node] if i in grid.NodeAgents]\n    if len(neighbor_agentstates) == 0:\n        # No neighbors, no need to move\n        agent.parameters['happy'] = 1\n        return\n\n    same = np.sum(np.array([state == agent.state for state in neighbor_agentstates]))\n\n    B = same/len(neighbor_agentstates)\n\n    if B < agent.parameters['B']:\n        agent.parameters['happy'] = 0\n    else:\n        agent.parameters['happy'] = 1\n\n@numba.njit\ndef relocate(grid):\n    \"\"\"\n    Grid action to relocate all unhappy agents\n\n    Parameters\n    ----------\n    grid : myabm.AgentGrid\n        Grid environment that the agent is in.\n\n    Returns\n    -------\n    None.\n\n    \"\"\"\n\n    for agent_id in grid.Agents:\n        agent = grid.Agents[agent_id]\n        \n        if agent.parameters['happy'] == 1:\n            continue\n        \n        else:\n            # Search for a new location\n            for newnode in np.random.permutation(grid.NNode):\n                # Search all nodes\n                if newnode in grid.NodeAgents:\n                    # Occupied - continue searching\n                    continue\n                \n                # Not occupied - check state of neighbors\n                neighbor_agentstates = [grid.Agents[grid.NodeAgents[i]].state for i in grid.NodeMooreNeighbors[newnode] if i in grid.NodeAgents]\n\n\n                if len(neighbor_agentstates) != 0:\n                    same = np.sum(np.array([state == agent.state for state in neighbor_agentstates]))\n                    newB = same/len(neighbor_agentstates)\n                else:\n                    # No neighbors - okay to move to\n                    newB = 0\n\n                if newB >= agent.parameters['B']:\n                    # move\n                    agent.parameters['happy'] = 1\n                    grid.move_agent(agent, newnode)\n\n                    break"
      ]
    },
    {
      "cell_type": "markdown",
      "metadata": {},
      "source": [
        "## 2D model with two agent types\n\n\n"
      ]
    },
    {
      "cell_type": "code",
      "execution_count": null,
      "metadata": {
        "collapsed": false
      },
      "outputs": [],
      "source": [
        "# Create the mesh for the simulation\nMesh = mymesh.primitives.Grid2D([0,1,0,1],0.025)\n\n# Initialize the model and assign actions\nmodel = Model(Mesh, agent_parameters={'B': 0.6, 'happy':0})\nmodel.agent_actions = (decide,)\nmodel.grid_actions = (relocate,)\n\n# Seed the model with agents with two different states\nmodel.seed(600, state='0')\nmodel.seed(600, state='1')\n\n# Run the simulation for 30 steps\nmodel.iterate(20)\n\n# Create an animation\nmodel.animate('segregation2d.gif', view='xy', show_mesh=False)"
      ]
    },
    {
      "cell_type": "markdown",
      "metadata": {},
      "source": [
        "## 3D model on a torus\nThe model can easily be implemented on different meshes, in 2D or 3D.\n\n"
      ]
    },
    {
      "cell_type": "code",
      "execution_count": null,
      "metadata": {
        "collapsed": false
      },
      "outputs": [],
      "source": [
        "Mesh = mymesh.primitives.Torus([0,0,0], 1, 0.5, phi_resolution=80, theta_resolution=80)\n\nmodel = Model(Mesh, agent_parameters={'B': 0.3, 'happy':0})\nmodel.agent_actions = (decide,)\nmodel.grid_actions = (relocate,)\n\nmodel.seed(2000, state='0')\nmodel.seed(2000, state='1')\nmodel.seed(2000, state='2')\n\nmodel.iterate(10)\n\nmodel.animate('segregation3d.gif', show_mesh_edges=False, agent_kwargs={'render_points_as_spheres':True, 'point_size':8})"
      ]
    }
  ],
  "metadata": {
    "kernelspec": {
      "display_name": "Python 3",
      "language": "python",
      "name": "python3"
    },
    "language_info": {
      "codemirror_mode": {
        "name": "ipython",
        "version": 3
      },
      "file_extension": ".py",
      "mimetype": "text/x-python",
      "name": "python",
      "nbconvert_exporter": "python",
      "pygments_lexer": "ipython3",
      "version": "3.10.18"
    }
  },
  "nbformat": 4,
  "nbformat_minor": 0
}