{
  "cells": [
    {
      "cell_type": "markdown",
      "metadata": {},
      "source": [
        "\n# Skeletal Cell Behaviors\n\nThese demos illustrate the basic behaviors of skeletal cells in the ortho model,\nproliferation, apoptosis, migration, tissue production, and differentiation. \n"
      ]
    },
    {
      "cell_type": "code",
      "execution_count": null,
      "metadata": {
        "collapsed": false
      },
      "outputs": [],
      "source": [
        "import sys\nsys.path.insert(0,'../src')\nfrom myabm.ortho import OrthoModel, actions, setup, geometries\nimport mymesh\nimport numpy as np"
      ]
    },
    {
      "cell_type": "markdown",
      "metadata": {},
      "source": [
        "## Cell Dynamics - Proliferation & Apoptosis\n\nAt each time step, cells have a random chance of proliferating or undergoing\napoptosis. The probabilities are determined based on the parameters\n:code:`agent.parameters['ProlifRate']` and \n:code:`agent.parameters['ApopRate']`, which are defined with units of \nevents/day. \n\n"
      ]
    },
    {
      "cell_type": "code",
      "execution_count": null,
      "metadata": {
        "collapsed": false
      },
      "outputs": [],
      "source": [
        "h = 0.025 # Grid spacing\nmodel = setup.demo_block(h) # Create the demo block scaffold\nmodel.agent_actions = (actions.proliferate, actions.apoptose) # Set cell actions\nmodel.iterate(7, schedule=OrthoModel.substep_saver_schedule) # Iterate the model for 7 days\nmodel.animate('celldynamics.gif', fps=50, view=[.8,.3,.3],              \n                show_mesh_edges=True, agent_kwargs=dict(\n                  render_points_as_spheres=True, point_size=40),\n                show_timer=True)"
      ]
    },
    {
      "cell_type": "markdown",
      "metadata": {},
      "source": [
        "## Migration - Random Walk\n\nCells can have a random chance of migrating at each time step, based on the\nparameter :code:`agent.parameters['MigrRate']` (mm/day). The cells then \nrandomly choose where to migrate to from the available neighboring nodes.\n\n"
      ]
    },
    {
      "cell_type": "code",
      "execution_count": null,
      "metadata": {
        "collapsed": false
      },
      "outputs": [],
      "source": [
        "h = 0.025 # Grid spacing\nmodel = setup.demo_block(h) # Create the demo block scaffold\nmodel.agent_actions = (actions.migrate,) # Set cell actions\nmodel.iterate(1, schedule=OrthoModel.substep_saver_schedule) # Iterate the model for 1 day\nmodel.animate('migration.gif', show_mesh_edges=True, view=[.8,.3,.3],\n            agent_kwargs=dict(render_points_as_spheres=True, point_size=40), \n            show_timer=True)"
      ]
    },
    {
      "cell_type": "markdown",
      "metadata": {},
      "source": [
        "## Tissue Production\n\nCells produce tissue by filling adjacent voxels with a tissue type \ncorresponding to the cell type. The basic :func:`myabm.ortho.actions.produce`\nfunction has cells produce tissue at a baseline rate of \n:code:`agent.parameters['Production']` (mm\\ :sup:`3`/day). \nA curvature-dependent tissue production function is also available: \n:func:`myabm.ortho.actions.produce_oriented`\nWhen tissue is being produced in previously unfilled space, once the tissue\nreaches :code:`model.grid_parameters['Tissue Threshold']`, cells automatically\nmove to the new surface, creating the effect of cells producing tissue \nbeneath them.\n\n"
      ]
    },
    {
      "cell_type": "code",
      "execution_count": null,
      "metadata": {
        "collapsed": false
      },
      "outputs": [],
      "source": [
        "h = 0.025 # Grid spacing\nmodel = setup.demo_block(h) # Create the demo block scaffold\nmodel.agent_grid.NodeData['Cells Allowed'][model.mesh.SurfNodes] = 0 # Keep the cell centered for the demo\nmodel.agent_actions = (actions.produce,) # Set cell actions\nmodel.iterate(10, schedule=OrthoModel.substep_saver_schedule) # Iterate the model for 10 days\nmodel.animate('production.gif', fps=50, view=[.8,.3,.3], \n        agent_kwargs=dict(render_points_as_spheres=True, point_size=40), \n        show_timer=True, tissue_threshold=.01, tissue_opacity=True)"
      ]
    },
    {
      "cell_type": "markdown",
      "metadata": {},
      "source": [
        "## Differentiation\n\nCells can differentiate into different cell types. Using the mechanobiological\nframework of Prendergast et al. (1997), marrow stromal cells (:code:`'msc'`)\ncan differentiate into fibroblasts, chondrocytes, or osteoblasts based on \nmechanical stimulus (octahedral shear strain and fluid flow). Here, the \nstimulus is assigned randomly, rather than through mechanical simulation.\n\n"
      ]
    },
    {
      "cell_type": "code",
      "execution_count": null,
      "metadata": {
        "collapsed": false
      },
      "outputs": [],
      "source": [
        "h = 0.025 # Grid spacing\n# Set the required age before differentiation to 0 (default 6)\nparameters = dict(DiffMaturity=0) \n# Create the demo block scaffold\nmodel = setup.demo_block(h, ncells=9, agent_parameters=parameters) \n# Keep the cell centered for the demo\nmodel.agent_grid.NodeData['Cells Allowed'][model.mesh.SurfNodes] = 0 \n# Apply a random stimulus for differentiation\nmodel.agent_grid.NodeData['Stimulus'] = np.random.rand(model.NNode)*4\nmodel.agent_actions = (actions.differentiate_prendergast,) # Set cell actions\nmodel.iterate(14, schedule=OrthoModel.substep_saver_schedule) # Iterate the model for 14 days\nmodel.animate('differentiate.gif', fps=50, view=[.8,.3,.3], \n        agent_kwargs=dict(render_points_as_spheres=True, point_size=40), \n        show_timer=True, tissue_threshold=.01, tissue_opacity=True)"
      ]
    }
  ],
  "metadata": {
    "kernelspec": {
      "display_name": "Python 3",
      "language": "python",
      "name": "python3"
    },
    "language_info": {
      "codemirror_mode": {
        "name": "ipython",
        "version": 3
      },
      "file_extension": ".py",
      "mimetype": "text/x-python",
      "name": "python",
      "nbconvert_exporter": "python",
      "pygments_lexer": "ipython3",
      "version": "3.10.18"
    }
  },
  "nbformat": 4,
  "nbformat_minor": 0
}