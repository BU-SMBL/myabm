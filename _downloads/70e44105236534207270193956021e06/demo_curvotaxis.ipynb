{
  "cells": [
    {
      "cell_type": "markdown",
      "metadata": {},
      "source": [
        "\n# Curvotaxis\n\nCells have been shown to migrate in response to a variety of cues, including \nchemical signaling (\"chemotaxis\") and substrate/ECM stiffness (\"durotaxis\"). \n:cite:`Pieuchot2018a` demonstrated that cells also exhibit \"curvotaxis\", or \ncurvature-dependent migration. Both migration rate and preferential migration\ndirection were demonstrated to be curvature dependent, which can be implemented\nin the model by weighting the probability of migration by the curvature at \nthe cells current location and the probabilities of which site to move to by \nthe curvatures at the surrounding sites. \n"
      ]
    },
    {
      "cell_type": "code",
      "execution_count": null,
      "metadata": {
        "collapsed": false
      },
      "outputs": [],
      "source": [
        "import sys\nsys.path.append('../src')\nfrom myabm.ortho import OrthoModel, actions, setup, geometries\nimport mymesh\nimport numpy as np\nimport plotly.graph_objects as go\nimport matplotlib.pyplot as plt"
      ]
    },
    {
      "cell_type": "markdown",
      "metadata": {},
      "source": [
        "## Surface geometry for demonstrating curvotaxis\n\n:cite:`Pieuchot2018a` studied the migration of cells seeded on sinusoidal \nsubstrates. These can be created by warping a 2D grid mesh to a sinusoidal \nimplicit function.\nTo sufficiently resolve the geometry of the sinusoidal surface, a smaller\ngrid size (0.005 mm) than the standard (0.025 mm) was used and the time\nstep was adjusted proportionally. While reducing the grid size alters\nthe contact inhibition of migration and allows for a locally higher than\nnormal cell density, the low seeding density of the cells on the surface\nmakes this impact negligible.\n\n"
      ]
    },
    {
      "cell_type": "code",
      "execution_count": null,
      "metadata": {
        "collapsed": false
      },
      "outputs": [],
      "source": [
        "func, bounds = geometries.sinusoidal_surface(amplitude=0.01, period=0.1)\nh = .005 # Grid spacing\ndt = 0.02 * (h/.025)\nsurf = mymesh.primitives.Grid2D(bounds[:4],h)\n\n# Shape the surface\nxnodes = np.arange(surf.NNode)\nynodes = np.arange(surf.NNode)\nconstraints = np.vstack((np.column_stack(( # Constrain the boundaries to \n        xnodes, # nodes\n        np.repeat(0, len(xnodes)), # axis\n        np.zeros(len(xnodes)) # constraint value\n        )),\n        np.column_stack((\n        ynodes, # nodes\n        np.repeat(1, len(ynodes)), # axis\n        np.zeros(len(ynodes)) # constraint value\n        ))\n    ))\n\nsurf = mymesh.implicit.SurfaceNodeOptimization(surf, func, h, iterate=200, \n                            constraint=constraints, smooth=False, InPlace=True)"
      ]
    },
    {
      "cell_type": "markdown",
      "metadata": {},
      "source": [
        "## Running the curvotaxis simulation\n\nThe :func:`myabm.ortho.actions.migrate_curvotaxis` agent action determines\nthe rate of migration and the direction of migration with a \ncurvature-dependent random walk process. \n\nThe migration rate is determined by the mean curvature at the node the cell \nis currently on ($H_i$)by the equation:\n\n\\begin{align}k = k_{m} \\left(m_a m_b^{H_i} + m_c \\right)\\end{align}\n\nwhere $k_m$ is the baseline migration rate \n(:code:`agent.parameters['MigrRate']`) and $m_a, \\ m_b, \\ m_c$ are \nmigration weights (:code:`agent.parameters['MigrationWeight0']`,\n:code:`agent.parameters['MigrationWeight1']`, \n:code:`agent.parameters['MigrationWeight2']`). The default values\nof these parameters were obtained by curve fitting to migration rate data\nfrom :cite:`Pieuchot2018a`: $k_m = 1$, $m_a = 0.101$, \n$m_b = 1.083$, $m_c = 0.475$.\n\nThe migration direction is chosen based on the mean curvatures of the \nneighboring nodes \n\n\\begin{align}p(H_n) = 1 - \\left(\\frac{1}{1 + \\exp(m_d(H_n - m_e))}\\right)\\end{align}\n\nwhere $m_d$ and $m_e$ are migration weights \n(:code:`agent.parameters['MigrationWeight3']`, \n:code:`agent.parameters['MigrationWeight4']`).  The default values were\ndetermined by Bayesian optimization fitting the result of  simulations on\nmultiple different sinusoidal substrates to the experimental data of \n:cite:`Pieuchot2018a`: $m_d = 0.232 \\ mm$, $m_e = -19.975 \\ mm^{-1}$\n\n\nSince this example is only studying migration over a 1-day period, other \ncell behaviors, like proliferation and apoptosis, can be neglected.\n\n"
      ]
    },
    {
      "cell_type": "code",
      "execution_count": null,
      "metadata": {
        "collapsed": false
      },
      "outputs": [],
      "source": [
        "model = OrthoModel(surf)\n# Scale the time step to be proportional with the grid spacing\nmodel.agent_grid.TimeStep = dt\nmodel.model_parameters['SubStep'] = dt\nmodel.seed(100, state='msc')\nmodel.agent_grid.ElemData['Scaffold Fraction'][:] = 1\nmodel.agent_grid.ElemData['Volume Fraction'][:] = 1\n\n# Calculate curvatures\nk1, k2 = mymesh.curvature.CubicFit(model.mesh.NodeCoords, \n                                    model.mesh.NodeConn, \n                                    model.mesh.NodeNeighbors, \n                                    model.mesh.NodeNormals)\nmodel.agent_grid.NodeData['Mean Curvature'] = mymesh.curvature.MeanCurvature(k1, k2)\n\n# Set actions\nmodel.agent_actions = (actions.migrate_curvotaxis, ) # Set cell actions\n\n# Run the model\nmodel.iterate(1, schedule=OrthoModel.substep_saver_schedule) \n\n# Generate animation\nmodel.animate('curvotaxis.gif', fps=20, show_mesh_edges=False,\n            show_agents=True, show_timer=True, \n            agent_kwargs=dict(render_points_as_spheres=True), \n            scalars='Mean Curvature', clim=(-10,10), cmap='coolwarm')"
      ]
    },
    {
      "cell_type": "markdown",
      "metadata": {},
      "source": [
        "## Comparison to experimental data\n\nThe results of the simulation can be compared to the experimental results of \n:cite:`Pieuchot2018a`, which looked at the distribution of cells along the \nsurface, binning by height (which for these sinusoidal surfaces is linearly\ncorrelated to mean curvature).\n\n<div class=\"alert alert-info\"><h4>Note</h4><p>Due to the randomness of the model, the results can vary, but typically\n      averaging the results of a few repeated runs gives good agreement with\n      the experimental data.</p></div>\n\n"
      ]
    },
    {
      "cell_type": "code",
      "execution_count": null,
      "metadata": {
        "collapsed": false
      },
      "outputs": [],
      "source": [
        "# Plot histogram to compare to experimental data\ncellZ = model.mesh.NodeCoords[model.history['Agent Nodes'][-1],2]\nhist, edges = np.histogram(cellZ, bins=5, range=(-0.005, 0.005))\ncenters = np.array([(edges[i]+edges[i+1])/2 for i in range(len(edges)-1)])\n\n# Experimental data from Pieuchot et al. (2018) \naverage_height = np.array([-4.0, -2.0, 0, 2.0, 4.0])\npercent_nuclei = np.array([59.6644, 27.2483, 10.8054, 2.3490, 0])\npercent_nuclei_std = np.array([6.1074, 2.8188, 1.8792, 1.8792, 0])      \n\ncolors = ['#00007E', '#1C15DB', '#7E5E7E', '#E1A92A', '#F7E6C4']\n\nfig, ax = plt.subplots(figsize=(4,4))\nbar_width = 0.7\nbar1 = ax.bar(\n    centers*1000-bar_width/1.9,\n    hist,\n    width=bar_width,\n    color=colors[:len(centers)],\n    edgecolor='white',\n    hatch='////',\n    label='Simulated',\n)\n\nbar2 = ax.bar(\n    average_height+bar_width/1.9, \n    percent_nuclei,\n    yerr=percent_nuclei_std,\n    width=bar_width,\n    color=colors[:len(average_height)],\n    label='Pieuchot et al.',\n)\n\nax.set_xlabel('Height (\u03bcm)')\nax.set_ylabel('% of nuclei')\nax.set_ylim(0, 100)\nax.legend()\nax.spines[['right', 'top']].set_visible(False)\nplt.tight_layout()\nplt.show()"
      ]
    }
  ],
  "metadata": {
    "kernelspec": {
      "display_name": "Python 3",
      "language": "python",
      "name": "python3"
    },
    "language_info": {
      "codemirror_mode": {
        "name": "ipython",
        "version": 3
      },
      "file_extension": ".py",
      "mimetype": "text/x-python",
      "name": "python",
      "nbconvert_exporter": "python",
      "pygments_lexer": "ipython3",
      "version": "3.10.18"
    }
  },
  "nbformat": 4,
  "nbformat_minor": 0
}