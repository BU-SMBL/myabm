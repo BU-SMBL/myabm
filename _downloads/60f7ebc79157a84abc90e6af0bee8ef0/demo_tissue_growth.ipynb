{
  "cells": [
    {
      "cell_type": "markdown",
      "metadata": {},
      "source": [
        "\n# Tissue Growth\n\nTissue has been shown to grow in a curvature-dependent manner, with faster\ngrowth in regions of higher concave curvatures while being suppressed in \nregions of convex curvature. Curvature dependent tissue growth is implemented\nthrough the :func:`myabm.ortho.actions.produce_oriented` cell action, and \nrequires the model action: :func:`myabm.ortho.actions.update_curvature` to \ncalculate the local curvatures.\n\nThis example replicates the experimental \nsetup of :cite:`Bidan2013` to illustrate this behavior.\n"
      ]
    },
    {
      "cell_type": "code",
      "execution_count": null,
      "metadata": {
        "collapsed": false
      },
      "outputs": [],
      "source": [
        "import sys\nsys.path.append('../src')\nfrom myabm.ortho import OrthoModel, actions, setup, geometries\nimport mymesh\nimport numpy as np\n\n# Setup model\nfunc, bounds = geometries.cross_channel('medium')\nh = 0.025 # Grid spacing\nmodel = setup.implicit_scaffold(func, bounds, h, seeding_density=1e3) \n\n# Scaffold surfaces are smoothed by default, but in this case the geometry has \n# flat walls/sharp edges\nmodel.model_parameters['Smooth Scaffold'] = False \n# Set actions\nmodel.agent_actions = (actions.proliferate, actions.migrate_curvotaxis, actions.produce_oriented, actions.apoptose) # Set cell actions\nmodel.model_actions = (actions.update_curvature,)\n\n# Run the model\nmodel.act(actions.update_curvature) # initialize curvature before iterating\nmodel.iterate(35) # Iterate the model for 35 days\n\n# Generate animation\nmodel.animate('cross_channel.gif', fps=10, timestep=1, view='xy', show_mesh_edges=False,\n            show_agents=False, show_timer=True)"
      ]
    }
  ],
  "metadata": {
    "kernelspec": {
      "display_name": "Python 3",
      "language": "python",
      "name": "python3"
    },
    "language_info": {
      "codemirror_mode": {
        "name": "ipython",
        "version": 3
      },
      "file_extension": ".py",
      "mimetype": "text/x-python",
      "name": "python",
      "nbconvert_exporter": "python",
      "pygments_lexer": "ipython3",
      "version": "3.10.18"
    }
  },
  "nbformat": 4,
  "nbformat_minor": 0
}